{
 "cells": [
  {
   "cell_type": "code",
   "execution_count": 5,
   "id": "champion-extra",
   "metadata": {},
   "outputs": [],
   "source": [
    "from quspin.operators import hamiltonian, quantum_operator # Hamiltonians and operators\n",
    "from quspin.basis import spin_basis_1d, spin_basis_general # Hilbert space spin basis\n",
    "from quspin.tools.measurements import diag_ensemble\n",
    "import numpy as np # generic math functions\n",
    "import matplotlib.pyplot as plt\n",
    "%matplotlib inline\n",
    "\n",
    "from quspin.tools.measurements import ED_state_vs_time\n",
    "\n",
    "import matplotlib as mpl\n",
    "plt.rcParams.update({\n",
    "    \"text.usetex\": True,\n",
    "    \"font.family\": \"serif\",\n",
    "    \"font.serif\": [\"Palatino\"],\n",
    "    \"font.size\": 30,\n",
    "})\n",
    "\n",
    "from scipy.integrate import simps\n",
    "import itertools\n",
    "\n",
    "from scipy.optimize import minimize_scalar, shgo\n"
   ]
  },
  {
   "cell_type": "code",
   "execution_count": 2,
   "id": "representative-magic",
   "metadata": {},
   "outputs": [],
   "source": [
    "def EC3_hamiltonian(basis,M):\n",
    "    X = 3\n",
    "    N = basis.N\n",
    "    \n",
    "    J_zz, J_z, offset = [], [], []\n",
    "    for l in range(M):\n",
    "        triple = np.random.choice(np.arange(N),size=X,replace=False)\n",
    "        for m in itertools.product(triple,triple):\n",
    "            J_zz += [[1,m[0],m[1]]]\n",
    "        for m in range(X):\n",
    "            J_z += [[-2,triple[m]]]\n",
    "        offset += [[1,l]]\n",
    "    \n",
    "    return hamiltonian([[\"zz\",J_zz],[\"z\",J_z],[\"I\",offset]],[],basis=basis,dtype=np.float64,check_symm=False,check_herm=False)\n",
    "\n"
   ]
  },
  {
   "cell_type": "code",
   "execution_count": null,
   "id": "opening-check",
   "metadata": {},
   "outputs": [],
   "source": [
    "\n"
   ]
  },
  {
   "cell_type": "code",
   "execution_count": 3,
   "id": "taken-trademark",
   "metadata": {},
   "outputs": [],
   "source": [
    "def check_USA(H1):\n",
    "    Es = np.sort(H1.toarray().diagonal())\n",
    "    if int(Es[0]) == 0 and Es[1] > 0:\n",
    "        return True\n",
    "    else:\n",
    "        return False\n",
    "    "
   ]
  },
  {
   "cell_type": "code",
   "execution_count": 10,
   "id": "known-penetration",
   "metadata": {},
   "outputs": [],
   "source": [
    "def USA_hamiltonian(basis):\n",
    "    is_USA = False\n",
    "    while not is_USA:\n",
    "        H = EC3_hamiltonian(basis,M=basis.N-1)\n",
    "        is_USA = check_USA(H)\n",
    "    return H"
   ]
  },
  {
   "cell_type": "code",
   "execution_count": 11,
   "id": "affected-validity",
   "metadata": {},
   "outputs": [],
   "source": [
    "def gap(basis,H1,h):\n",
    "    N = basis.N\n",
    "    #quench hamiltonian\n",
    "    x_field=[[-h,i] for i in range(N)]\n",
    "    static=[H1.static,[\"x\",x_field]]\n",
    "    H2 =  hamiltonian(static,[],basis=basis,dtype=np.float64,check_symm=False, check_herm=False)\n",
    "    E2,V2=H2.eigh()\n",
    "    \n",
    "    return (E2[1]-E2[0])/(E2[-1]-E2[0])"
   ]
  },
  {
   "cell_type": "code",
   "execution_count": 12,
   "id": "turned-genesis",
   "metadata": {},
   "outputs": [],
   "source": [
    "def gap_sparse(basis,H1,h):\n",
    "    N = basis.N\n",
    "    #quench hamiltonian\n",
    "    x_field=[[-h,i] for i in range(N)]\n",
    "    static=[H1.static,[\"x\",x_field]]\n",
    "    H2 =  hamiltonian(static,[],basis=basis,dtype=np.float64,check_symm=False, check_herm=False)\n",
    "    E2=H2.eigsh(k=2,which='SA',return_eigenvectors=False)[::-1]\n",
    "    E3=H2.eigsh(k=1,which='LA',return_eigenvectors=False)[0]\n",
    "    \n",
    "    return (E2[1]-E2[0])/(E3-E2[0])"
   ]
  },
  {
   "cell_type": "code",
   "execution_count": 28,
   "id": "threatened-beach",
   "metadata": {},
   "outputs": [],
   "source": [
    "def minimalGap(N_spins,N_instance):\n",
    "    basis = spin_basis_general(N_spins)\n",
    "    \n",
    "    h_c_Deltas = np.zeros(N_instance)\n",
    "    Hamiltonians = np.zeros((N_instance,2**N_spins))\n",
    "    hs = np.linspace(0,4,100)\n",
    "    for i in range(N_instance):\n",
    "        print(i, end='\\r')\n",
    "        H = USA_hamiltonian(basis)\n",
    "        Hamiltonians[i] = H.toarray().diagonal()\n",
    "        \n",
    "        try:\n",
    "            f_Delta = lambda x: gap_sparse(basis,H,x)\n",
    "            Gs = np.zeros(len(hs))\n",
    "            for j,h in enumerate(hs):\n",
    "                Gs[j] = f_Delta(h)\n",
    "            temp = np.argmin(Gs)\n",
    "            h_c_Deltas[i] = minimize_scalar(f_Delta,bounds=(hs[temp-1],hs[temp+1]),method='bounded').x\n",
    "        except:\n",
    "            f_Delta = lambda x: gap(basis,H,x)\n",
    "            Gs = np.zeros(len(hs))\n",
    "            for j,h in enumerate(hs):\n",
    "                Gs[j] = f_Delta(h)\n",
    "            temp = np.argmin(Gs)\n",
    "            h_c_Deltas[i] = minimize_scalar(f_Delta,bounds=(hs[temp-1],hs[temp+1]),method='bounded').x\n",
    "\n",
    "\n",
    "    np.save('ML_h_c_Deltas_sparse_N{}'.format(N_spins),h_c_Deltas)\n",
    "    np.save('ML_Hamiltonians_sparse_N{}'.format(N_spins),Hamiltonians)\n",
    "    "
   ]
  },
  {
   "cell_type": "code",
   "execution_count": null,
   "id": "representative-married",
   "metadata": {},
   "outputs": [],
   "source": []
  },
  {
   "cell_type": "code",
   "execution_count": 3,
   "id": "finnish-worker",
   "metadata": {},
   "outputs": [],
   "source": [
    "Ns = np.arange(5,11)"
   ]
  },
  {
   "cell_type": "code",
   "execution_count": null,
   "id": "unusual-stand",
   "metadata": {},
   "outputs": [],
   "source": [
    "for N in Ns:\n",
    "    print('N_spins: ',N)\n",
    "    minimalGap(N,10000)"
   ]
  },
  {
   "cell_type": "code",
   "execution_count": 17,
   "id": "rural-transmission",
   "metadata": {},
   "outputs": [
    {
     "data": {
      "image/png": "[encoded data removed]",
      "text/plain": [
       "<Figure size 576x360 with 1 Axes>"
      ]
     },
     "metadata": {
      "needs_background": "light"
     },
     "output_type": "display_data"
    }
   ],
   "source": [
    "plt.figure(figsize = (8, 5))\n",
    "for N in Ns:\n",
    "    try:\n",
    "        h_s = np.load('ML_h_c_Deltas_sampleLocal_N{}.npy'.format(N))\n",
    "    except:\n",
    "        h_s = np.load('ML_h_c_Deltas_sparse_N{}.npy'.format(N))\n",
    "    plt.hist(1/(1+1/h_s),label=r'$N$'+'$={}$'.format(N),alpha=.8,bins=np.linspace(.63,.8),weights=1e-4*np.ones(10000));\n",
    "\n",
    "plt.legend(bbox_to_anchor=(1.2, 1.45),ncol=3)\n",
    "#plt.legend(loc=1,ncol=1)\n",
    "plt.xlabel(r'$h_c^\\Delta$')\n",
    "plt.ylabel(r'$p(h_c^\\Delta)$')\n",
    "#plt.title('sample $10^4$ random instances')\n",
    "plt.savefig('figures/gaps.png',dpi=300,bbox_inches='tight')"
   ]
  },
  {
   "cell_type": "code",
   "execution_count": 14,
   "id": "fatty-theme",
   "metadata": {},
   "outputs": [],
   "source": [
    "\n",
    "mins = np.zeros(len(Ns))\n",
    "maxs = np.zeros(len(Ns))\n",
    "avgs = np.zeros(len(Ns))\n",
    "for i,N in enumerate(Ns):\n",
    "    data = np.load('ML_h_c_Deltas_sampleLocal_N{}.npy'.format(N))\n",
    "    mins[i] = np.min(data)\n",
    "    maxs[i] = np.max(data)\n",
    "    avgs[i] = np.average(data)\n"
   ]
  },
  {
   "cell_type": "code",
   "execution_count": 22,
   "id": "electronic-blogger",
   "metadata": {},
   "outputs": [
    {
     "data": {
      "image/png": "[encoded data removed]",
      "text/plain": [
       "<Figure size 432x288 with 1 Axes>"
      ]
     },
     "metadata": {
      "needs_background": "light"
     },
     "output_type": "display_data"
    }
   ],
   "source": [
    "for i,N in enumerate(Ns):\n",
    "    data = np.load('ML_h_c_Deltas_sampleLocal_N{}.npy'.format(N))\n",
    "    plt.plot(N*np.ones(10000),data,'b_')\n",
    "plt.plot(Ns,mins,'o-',label='min')\n",
    "plt.plot(Ns,maxs,'o-',label='max')\n",
    "plt.plot(Ns,avgs,'o-',label='avg')\n",
    "plt.xlabel(r'$N_{\\mathrm{spins}}$')\n",
    "plt.ylabel(r'$h_c^\\Delta$')\n",
    "plt.legend()\n",
    "plt.savefig('sampleLocal_gaps',dpi=300)"
   ]
  },
  {
   "cell_type": "code",
   "execution_count": null,
   "id": "advisory-consolidation",
   "metadata": {},
   "outputs": [],
   "source": []
  }
 ],
 "metadata": {
  "kernelspec": {
   "display_name": "Python 3",
   "language": "python",
   "name": "python3"
  },
  "language_info": {
   "codemirror_mode": {
    "name": "ipython",
    "version": 3
   },
   "file_extension": ".py",
   "mimetype": "text/x-python",
   "name": "python",
   "nbconvert_exporter": "python",
   "pygments_lexer": "ipython3",
   "version": "3.8.5"
  }
 },
 "nbformat": 4,
 "nbformat_minor": 5
}
